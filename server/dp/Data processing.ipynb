{
 "cells": [
  {
   "cell_type": "code",
   "execution_count": 1,
   "metadata": {},
   "outputs": [],
   "source": [
    "import pandas as pd\n",
    "import numpy as np\n",
    "import json\n",
    "\n",
    "recipe_file_path = './server/dp/datasets/epi_r.csv'\n",
    "recipe_json_file_path = \"./server/dp/datasets/full_format_recipes.json\"\n"
   ]
  },
  {
   "cell_type": "code",
   "execution_count": 2,
   "metadata": {},
   "outputs": [],
   "source": [
    "def m1():\n",
    "    recipe_json_1 = pd.read_json(recipe_json_file_path)\n",
    "    # res = recipe_json_1.iloc[0:1]['categories']\n",
    "    gen = recipe_json_1.iterrows()\n",
    "    # for index in range(0,10):\n",
    "    #     next(gen)\n",
    "    for index in range(0,10):\n",
    "        _, res = next(gen)\n",
    "        res = res['categories']\n",
    "        res = np.squeeze(res)\n",
    "        print(res)\n",
    "        print(type(res))\n",
    "        res = [x.lower() for x in res]\n",
    "        res = sorted(res)\n",
    "        yield res\n"
   ]
  },
  {
   "cell_type": "code",
   "execution_count": 4,
   "metadata": {},
   "outputs": [],
   "source": [
    "recipe_df_1 = pd.read_csv(recipe_file_path)"
   ]
  },
  {
   "cell_type": "code",
   "execution_count": 5,
   "metadata": {},
   "outputs": [],
   "source": [
    "# pd.set_option('display.max_columns', 5000)\n",
    "pd.set_option('display.max_rows', 10)\n",
    "# print(recipe_df_1.iloc[0:1])\n",
    "# for index, recipe in recipe_df_1.iterrows():\n",
    "def m2():\n",
    "    for i in range(0,10):\n",
    "        is_one_hot_true = map(lambda x: x == np.float(1), recipe_df_1.iloc[i])\n",
    "        # Recipe with only one-hot encoding column.\n",
    "        one_hot_recipe = recipe_df_1.iloc[i][is_one_hot_true]\n",
    "        res2 = sorted(one_hot_recipe.index.values.tolist())\n",
    "        yield res2\n"
   ]
  },
  {
   "cell_type": "code",
   "execution_count": 6,
   "metadata": {},
   "outputs": [
    {
     "name": "stdout",
     "output_type": "stream",
     "text": [
      "['Sandwich' 'Bean' 'Fruit' 'Tomato' 'turkey' 'Vegetable' 'Kid-Friendly'\n 'Apple' 'Lentil' 'Lettuce' 'Cookie']\n<class 'numpy.ndarray'>\nTrue\n['Food Processor' 'Onion' 'Pork' 'Bake' 'Bastille Day' \"New Year's Eve\"\n 'Dried Fruit' 'Port' 'Winter' 'Chill' 'Bon Appétit']\n<class 'numpy.ndarray'>\nTrue\n['Soup/Stew' 'Dairy' 'Potato' 'Vegetable' 'Fennel' 'Gourmet' 'New York']\n<class 'numpy.ndarray'>\nTrue\n['Fish' 'Olive' 'Tomato' 'Sauté' 'Low Fat' 'Low Cal' 'High Fiber' 'Dinner'\n 'Healthy' 'Simmer' 'Bon Appétit' 'Pescatarian' 'Dairy Free' 'Peanut Free'\n 'Tree Nut Free' 'Soy Free' 'Kosher']\n<class 'numpy.ndarray'>\nTrue\n['Cheese' 'Dairy' 'Pasta' 'Vegetable' 'Side' 'Bake' 'Vegetarian'\n 'Quick & Easy' 'Fall' 'Bon Appétit' 'California']\n<class 'numpy.ndarray'>\nTrue\n['Sandwich' 'Food Processor' 'Tomato' 'Kid-Friendly' 'Quick & Easy'\n 'Basil' 'Bacon' 'Summer' 'Lettuce' 'Bon Appétit']\n<class 'numpy.ndarray'>\nTrue\n['Salad' 'Potato' 'Side' 'Easter' 'Low Fat' 'Quick & Easy' 'Ham'\n 'Asparagus' 'Spinach' 'Carrot' 'Spring' 'Healthy' 'Sugar Snap Pea' 'Boil'\n 'Bon Appétit' 'Dairy Free' 'Wheat/Gluten-Free' 'Peanut Free'\n 'Tree Nut Free' 'Soy Free' 'No Sugar Added']\n<class 'numpy.ndarray'>\nTrue\n['Egg' 'Fruit' 'No-Cook' 'Cocktail Party' 'Vegetarian' 'Winter' 'Kumquat'\n 'Gourmet']\n<class 'numpy.ndarray'>\nTrue\n['Beef' 'Ginger' 'Sauté' 'Stir-Fry' 'Quick & Easy' 'Spring' 'Soy Sauce'\n 'Gourmet']\n<class 'numpy.ndarray'>\nTrue\n['Salad' 'Mustard' 'Potato' 'Picnic' 'Lunch' 'Mayonnaise' 'Ham' 'Pea'\n 'Summer' 'Gourmet' 'Sugar Conscious' 'Dairy Free' 'Wheat/Gluten-Free'\n 'Peanut Free' 'Tree Nut Free' 'Soy Free']\n<class 'numpy.ndarray'>\nTrue\n"
     ]
    }
   ],
   "source": [
    "m1 = m1()\n",
    "m2 = m2()\n",
    "for i in range(0,10):\n",
    "    print(next(m1) == next(m2))\n"
   ]
  },
  {
   "cell_type": "code",
   "execution_count": 18,
   "metadata": {},
   "outputs": [],
   "source": [
    "# This sort function might not be necessary since it can be achieved by directly calling df.sort_values().\n",
    "def find_matching_recipes(keywords, result_count=15):\n",
    "    \"\"\"\n",
    "    Given a list of keywords find recipes that match the keywords and return all the matched recipes\n",
    "    and their matching percentage.\n",
    "    Args:\n",
    "        keywords: A 'list' containing all the ingredients and other keywords in user's inventory and\n",
    "         other keywords such as allergy info.\n",
    "    Returns:\n",
    "        partial_result_json: A list of dictionary containing result json objects.\n",
    "        partial_result_df: A Pandas DataFrame containing:\n",
    "            Title: The name of the recipe with at least one keyword found in it.\n",
    "            Match Found: The number of keywords found in the recipe given a querying list of keywords.\n",
    "            Match Percentage: The percentage of matching, defined as match found divided by item count in each recipe.\n",
    "            Match Items: A list of matched keywords found in each recipe.\n",
    "    \"\"\"\n",
    "    # Read recipes information from epi.csv\n",
    "\n",
    "    recipe_json_1 = pd.read_json(recipe_json_file_path)\n",
    "    # res = recipe_json_1.iloc[0:1]['categories']\n",
    "    # for index in range(0,10):\n",
    "    #     next(gen)\n",
    "\n",
    "    result_list = []\n",
    "    for index, recipe in recipe_json_1.iterrows():\n",
    "        # The recipe title to be used as a key in found_count for storing recipe result name.\n",
    "        recipe_name = recipe[\"title\"]\n",
    "\n",
    "        recipe_ingredients = recipe['categories']\n",
    "        recipe_ingredients = np.squeeze(recipe_ingredients)\n",
    "        recipe_ingredients.reshape((len(recipe_ingredients),1))\n",
    "        recipe_ingredients = [x.lower() for x in recipe_ingredients]\n",
    "        # res = sorted(res)\n",
    "\n",
    "        found = 0\n",
    "        found_keywords = []\n",
    "        # Loop and count matching keywords in a recipe.\n",
    "        for keyword in keywords:\n",
    "            if keyword in recipe_ingredients:\n",
    "                found += 1\n",
    "                found_keywords.append(keyword)\n",
    "        if found != 0:\n",
    "            # matching_percentage = found_count[recipe_name] / one_hot_recipe.count() * 100\n",
    "            matching_percentage = found / len(recipe_ingredients) * 100.00\n",
    "\n",
    "            # Add results to DataFrame.\n",
    "            result_list.append({'Title': recipe_name,\n",
    "                                'Match Found': found,\n",
    "                                'Match Percentage': matching_percentage,\n",
    "                                'Match Items': found_keywords})\n",
    "\n",
    "    # Convert list of dicts to DataFrame.\n",
    "    result_df = pd.DataFrame(result_list)\n",
    "\n",
    "    # Specify DataFrame desired column order.\n",
    "    desired_order = ['Title', 'Match Found', 'Match Percentage', 'Match Items']\n",
    "    result_df = result_df[desired_order]\n",
    "\n",
    "    # Sort the result DataFrame based on the number of item found in descending order.\n",
    "    result_df = result_df.sort_values('Match Found', ascending=False)\n",
    "\n",
    "    # Dataframe containing only the number of result desired.\n",
    "    partial_result_df = result_df[0:result_count]\n",
    "\n",
    "    # Get the index number of the matched recipe from the partial result.\n",
    "    result_indexes = partial_result_df.index.values.tolist()\n",
    "\n",
    "    # Read recipe.json file\n",
    "    recipes_json_df = pd.read_json(recipe_json_file_path)\n",
    "\n",
    "    # Get the partial recipe.json, all row in the indexes, and all col in the dataframe.\n",
    "    partial_recipes_json_df = recipes_json_df.iloc[result_indexes, :]\n",
    "\n",
    "    # Convert Dataframe to JSON\n",
    "    partial_result_json = partial_recipes_json_df.to_json(orient='index')\n",
    "    partial_result_json = json.JSONDecoder().decode(partial_result_json)\n",
    "\n",
    "    return partial_result_json, partial_result_df\n"
   ]
  },
  {
   "cell_type": "code",
   "execution_count": 19,
   "metadata": {},
   "outputs": [
    {
     "ename": "TypeError",
     "evalue": "len() of unsized object",
     "traceback": [
      "\u001b[0;31m---------------------------------------------------------------------------\u001b[0m",
      "\u001b[0;31mTypeError\u001b[0m                                 Traceback (most recent call last)",
      "\u001b[0;32m<ipython-input-19-f669d7df4b2c>\u001b[0m in \u001b[0;36m<module>\u001b[0;34m()\u001b[0m\n\u001b[1;32m      1\u001b[0m \u001b[0;32mimport\u001b[0m \u001b[0mtime\u001b[0m\u001b[0;34m\u001b[0m\u001b[0m\n\u001b[1;32m      2\u001b[0m \u001b[0mtic\u001b[0m \u001b[0;34m=\u001b[0m \u001b[0mtime\u001b[0m\u001b[0;34m.\u001b[0m\u001b[0mtime\u001b[0m\u001b[0;34m(\u001b[0m\u001b[0;34m)\u001b[0m\u001b[0;34m\u001b[0m\u001b[0m\n\u001b[0;32m----> 3\u001b[0;31m \u001b[0mresult\u001b[0m \u001b[0;34m=\u001b[0m \u001b[0mfind_matching_recipes\u001b[0m\u001b[0;34m(\u001b[0m\u001b[0mkeywords_from_inventory\u001b[0m\u001b[0;34m)\u001b[0m\u001b[0;34m\u001b[0m\u001b[0m\n\u001b[0m\u001b[1;32m      4\u001b[0m \u001b[0mtoc\u001b[0m \u001b[0;34m=\u001b[0m \u001b[0mtime\u001b[0m\u001b[0;34m.\u001b[0m\u001b[0mtime\u001b[0m\u001b[0;34m(\u001b[0m\u001b[0;34m)\u001b[0m\u001b[0;34m\u001b[0m\u001b[0m\n\u001b[1;32m      5\u001b[0m \u001b[0mprint\u001b[0m\u001b[0;34m(\u001b[0m\u001b[0mstr\u001b[0m\u001b[0;34m(\u001b[0m\u001b[0mtoc\u001b[0m\u001b[0;34m-\u001b[0m\u001b[0mtic\u001b[0m\u001b[0;34m)\u001b[0m \u001b[0;34m+\u001b[0m \u001b[0;34m\" seconds\"\u001b[0m\u001b[0;34m)\u001b[0m\u001b[0;34m\u001b[0m\u001b[0m\n",
      "\u001b[0;32m<ipython-input-18-d724d39417f6>\u001b[0m in \u001b[0;36mfind_matching_recipes\u001b[0;34m(keywords, result_count)\u001b[0m\n\u001b[1;32m     29\u001b[0m         \u001b[0mrecipe_ingredients\u001b[0m \u001b[0;34m=\u001b[0m \u001b[0mrecipe\u001b[0m\u001b[0;34m[\u001b[0m\u001b[0;34m'categories'\u001b[0m\u001b[0;34m]\u001b[0m\u001b[0;34m\u001b[0m\u001b[0m\n\u001b[1;32m     30\u001b[0m         \u001b[0mrecipe_ingredients\u001b[0m \u001b[0;34m=\u001b[0m \u001b[0mnp\u001b[0m\u001b[0;34m.\u001b[0m\u001b[0msqueeze\u001b[0m\u001b[0;34m(\u001b[0m\u001b[0mrecipe_ingredients\u001b[0m\u001b[0;34m)\u001b[0m\u001b[0;34m\u001b[0m\u001b[0m\n\u001b[0;32m---> 31\u001b[0;31m         \u001b[0mrecipe_ingredients\u001b[0m\u001b[0;34m.\u001b[0m\u001b[0mreshape\u001b[0m\u001b[0;34m(\u001b[0m\u001b[0;34m(\u001b[0m\u001b[0mlen\u001b[0m\u001b[0;34m(\u001b[0m\u001b[0mrecipe_ingredients\u001b[0m\u001b[0;34m)\u001b[0m\u001b[0;34m,\u001b[0m\u001b[0;36m1\u001b[0m\u001b[0;34m)\u001b[0m\u001b[0;34m)\u001b[0m\u001b[0;34m\u001b[0m\u001b[0m\n\u001b[0m\u001b[1;32m     32\u001b[0m         \u001b[0mrecipe_ingredients\u001b[0m \u001b[0;34m=\u001b[0m \u001b[0;34m[\u001b[0m\u001b[0mx\u001b[0m\u001b[0;34m.\u001b[0m\u001b[0mlower\u001b[0m\u001b[0;34m(\u001b[0m\u001b[0;34m)\u001b[0m \u001b[0;32mfor\u001b[0m \u001b[0mx\u001b[0m \u001b[0;32min\u001b[0m \u001b[0mrecipe_ingredients\u001b[0m\u001b[0;34m]\u001b[0m\u001b[0;34m\u001b[0m\u001b[0m\n\u001b[1;32m     33\u001b[0m         \u001b[0;31m# res = sorted(res)\u001b[0m\u001b[0;34m\u001b[0m\u001b[0;34m\u001b[0m\u001b[0m\n",
      "\u001b[0;31mTypeError\u001b[0m: len() of unsized object"
     ],
     "output_type": "error"
    }
   ],
   "source": [
    "import time\n",
    "tic = time.time()\n",
    "result = find_matching_recipes(keywords_from_inventory)\n",
    "toc = time.time()\n",
    "print(str(toc-tic) + \" seconds\")\n"
   ]
  },
  {
   "cell_type": "code",
   "execution_count": 10,
   "metadata": {},
   "outputs": [],
   "source": [
    "# This sort function might not be necessary since it can be achieved by directly calling df.sort_values().\n",
    "def find_matching_recipes(keywords, result_count=15):\n",
    "    \"\"\"\n",
    "    Given a list of keywords find recipes that match the keywords and return all the matched recipes\n",
    "    and their matching percentage.\n",
    "    Args:\n",
    "        keywords: A 'list' containing all the ingredients and other keywords in user's inventory and\n",
    "         other keywords such as allergy info.\n",
    "    Returns:\n",
    "        partial_result_json: A list of dictionary containing result json objects.\n",
    "        partial_result_df: A Pandas DataFrame containing:\n",
    "            Title: The name of the recipe with at least one keyword found in it.\n",
    "            Match Found: The number of keywords found in the recipe given a querying list of keywords.\n",
    "            Match Percentage: The percentage of matching, defined as match found divided by item count in each recipe.\n",
    "            Match Items: A list of matched keywords found in each recipe.\n",
    "    \"\"\"\n",
    "    # Read recipes information from epi.csv\n",
    "    recipes_df = pd.read_csv(recipe_file_path)\n",
    "\n",
    "    result_list = []\n",
    "    for index, recipe in recipes_df.iterrows():\n",
    "        # The recipe title to be used as a key in found_count for storing recipe result name.\n",
    "        recipe_name = recipe[\"title\"]\n",
    "\n",
    "        is_one_hot_true = map(lambda x: x == np.float(1), recipe)\n",
    "\n",
    "        # Recipe with only one-hot encoding column.\n",
    "        one_hot_recipe = recipe[is_one_hot_true]\n",
    "\n",
    "        found = 0\n",
    "        found_keywords = []\n",
    "        # Loop and count matching keywords in a recipe.\n",
    "        for keyword in keywords:\n",
    "            if keyword in one_hot_recipe:\n",
    "                found += 1\n",
    "                found_keywords.append(keyword)\n",
    "        if found != 0:\n",
    "            # matching_percentage = found_count[recipe_name] / one_hot_recipe.count() * 100\n",
    "            matching_percentage = found / one_hot_recipe.count() * 100.00\n",
    "\n",
    "            # Add results to DataFrame.\n",
    "            result_list.append({'Title': recipe_name,\n",
    "                                'Match Found': found,\n",
    "                                'Match Percentage': matching_percentage,\n",
    "                                'Match Items': found_keywords})\n",
    "\n",
    "    # Convert list of dicts to DataFrame.\n",
    "    result_df = pd.DataFrame(result_list)\n",
    "\n",
    "    # Specify DataFrame desired column order.\n",
    "    desired_order = ['Title', 'Match Found', 'Match Percentage', 'Match Items']\n",
    "    result_df = result_df[desired_order]\n",
    "\n",
    "    # Sort the result DataFrame based on the number of item found in descending order.\n",
    "    result_df = result_df.sort_values('Match Found', ascending=False)\n",
    "\n",
    "    # Dataframe containing only the number of result desired.\n",
    "    partial_result_df = result_df[0:result_count]\n",
    "\n",
    "    # Get the index number of the matched recipe from the partial result.\n",
    "    result_indexes = partial_result_df.index.values.tolist()\n",
    "\n",
    "    # Read recipe.json file\n",
    "    recipes_json_df = pd.read_json(recipe_json_file_path)\n",
    "\n",
    "    # Get the partial recipe.json, all row in the indexes, and all col in the dataframe.\n",
    "    partial_recipes_json_df = recipes_json_df.iloc[result_indexes, :]\n",
    "\n",
    "    # Convert Dataframe to JSON\n",
    "    partial_result_json = partial_recipes_json_df.to_json(orient='index')\n",
    "    partial_result_json = json.JSONDecoder().decode(partial_result_json)\n",
    "\n",
    "    return partial_result_json, partial_result_df"
   ]
  },
  {
   "cell_type": "code",
   "execution_count": 11,
   "metadata": {},
   "outputs": [],
   "source": [
    "keywords_from_inventory = [\"lettuce\", \"chicken\", \"apple\", \"tomato\", \"turkey\", \"bean\"]"
   ]
  },
  {
   "cell_type": "code",
   "execution_count": 14,
   "metadata": {},
   "outputs": [
    {
     "ename": "TypeError",
     "evalue": "iteration over a 0-d array",
     "traceback": [
      "\u001b[0;31m---------------------------------------------------------------------------\u001b[0m",
      "\u001b[0;31mTypeError\u001b[0m                                 Traceback (most recent call last)",
      "\u001b[0;32m<ipython-input-14-f669d7df4b2c>\u001b[0m in \u001b[0;36m<module>\u001b[0;34m()\u001b[0m\n\u001b[1;32m      1\u001b[0m \u001b[0;32mimport\u001b[0m \u001b[0mtime\u001b[0m\u001b[0;34m\u001b[0m\u001b[0m\n\u001b[1;32m      2\u001b[0m \u001b[0mtic\u001b[0m \u001b[0;34m=\u001b[0m \u001b[0mtime\u001b[0m\u001b[0;34m.\u001b[0m\u001b[0mtime\u001b[0m\u001b[0;34m(\u001b[0m\u001b[0;34m)\u001b[0m\u001b[0;34m\u001b[0m\u001b[0m\n\u001b[0;32m----> 3\u001b[0;31m \u001b[0mresult\u001b[0m \u001b[0;34m=\u001b[0m \u001b[0mfind_matching_recipes\u001b[0m\u001b[0;34m(\u001b[0m\u001b[0mkeywords_from_inventory\u001b[0m\u001b[0;34m)\u001b[0m\u001b[0;34m\u001b[0m\u001b[0m\n\u001b[0m\u001b[1;32m      4\u001b[0m \u001b[0mtoc\u001b[0m \u001b[0;34m=\u001b[0m \u001b[0mtime\u001b[0m\u001b[0;34m.\u001b[0m\u001b[0mtime\u001b[0m\u001b[0;34m(\u001b[0m\u001b[0;34m)\u001b[0m\u001b[0;34m\u001b[0m\u001b[0m\n\u001b[1;32m      5\u001b[0m \u001b[0mprint\u001b[0m\u001b[0;34m(\u001b[0m\u001b[0mstr\u001b[0m\u001b[0;34m(\u001b[0m\u001b[0mtoc\u001b[0m\u001b[0;34m-\u001b[0m\u001b[0mtic\u001b[0m\u001b[0;34m)\u001b[0m \u001b[0;34m+\u001b[0m \u001b[0;34m\" seconds\"\u001b[0m\u001b[0;34m)\u001b[0m\u001b[0;34m\u001b[0m\u001b[0m\n",
      "\u001b[0;32m<ipython-input-13-1b42932c115a>\u001b[0m in \u001b[0;36mfind_matching_recipes\u001b[0;34m(keywords, result_count)\u001b[0m\n\u001b[1;32m     29\u001b[0m         \u001b[0mrecipe_ingredients\u001b[0m \u001b[0;34m=\u001b[0m \u001b[0mrecipe\u001b[0m\u001b[0;34m[\u001b[0m\u001b[0;34m'categories'\u001b[0m\u001b[0;34m]\u001b[0m\u001b[0;34m\u001b[0m\u001b[0m\n\u001b[1;32m     30\u001b[0m         \u001b[0mrecipe_ingredients\u001b[0m \u001b[0;34m=\u001b[0m \u001b[0mnp\u001b[0m\u001b[0;34m.\u001b[0m\u001b[0msqueeze\u001b[0m\u001b[0;34m(\u001b[0m\u001b[0mrecipe_ingredients\u001b[0m\u001b[0;34m)\u001b[0m\u001b[0;34m\u001b[0m\u001b[0m\n\u001b[0;32m---> 31\u001b[0;31m         \u001b[0mrecipe_ingredients\u001b[0m \u001b[0;34m=\u001b[0m \u001b[0mlist\u001b[0m\u001b[0;34m(\u001b[0m\u001b[0mmap\u001b[0m\u001b[0;34m(\u001b[0m\u001b[0;32mlambda\u001b[0m \u001b[0mx\u001b[0m\u001b[0;34m:\u001b[0m \u001b[0mx\u001b[0m\u001b[0;34m.\u001b[0m\u001b[0mlower\u001b[0m\u001b[0;34m(\u001b[0m\u001b[0;34m)\u001b[0m\u001b[0;34m,\u001b[0m \u001b[0mrecipe_ingredients\u001b[0m\u001b[0;34m)\u001b[0m\u001b[0;34m)\u001b[0m\u001b[0;34m\u001b[0m\u001b[0m\n\u001b[0m\u001b[1;32m     32\u001b[0m         \u001b[0;31m# res = sorted(res)\u001b[0m\u001b[0;34m\u001b[0m\u001b[0;34m\u001b[0m\u001b[0m\n\u001b[1;32m     33\u001b[0m \u001b[0;34m\u001b[0m\u001b[0m\n",
      "\u001b[0;31mTypeError\u001b[0m: iteration over a 0-d array"
     ],
     "output_type": "error"
    }
   ],
   "source": [
    "import time\n",
    "tic = time.time()\n",
    "result = find_matching_recipes(keywords_from_inventory)\n",
    "toc = time.time()\n",
    "print(str(toc-tic) + \" seconds\")\n"
   ]
  },
  {
   "cell_type": "code",
   "execution_count": 5,
   "metadata": {},
   "outputs": [
    {
     "name": "stdout",
     "output_type": "stream",
     "text": [
      "['calories', 'categories', 'date', 'desc', 'directions', 'fat', 'ingredients', 'protein', 'rating', 'sodium', 'title']\n"
     ]
    }
   ],
   "source": [
    "# Test for find_matching_recipes\n",
    "recipes_df_json_m = pd.read_json(recipe_json_file_path)\n",
    "print(list(recipes_df_json_m))"
   ]
  },
  {
   "cell_type": "code",
   "execution_count": 35,
   "metadata": {},
   "outputs": [
    {
     "name": "stdout",
     "output_type": "stream",
     "text": [
      "[0, 1061, 140, 2680, 2392, 694, 365, 859, 4743, 3943, 2070, 3920, 2030, 3140, 2655]\n"
     ]
    }
   ],
   "source": [
    "result_indexes = result.index.values.tolist()\n",
    "print(result_indexes)"
   ]
  },
  {
   "cell_type": "code",
   "execution_count": 36,
   "metadata": {},
   "outputs": [],
   "source": [
    "result_json_df = recipes_df_json_m.iloc[result_indexes, :]"
   ]
  },
  {
   "cell_type": "code",
   "execution_count": 32,
   "metadata": {},
   "outputs": [],
   "source": [
    "from pprint import pprint\n",
    "\n",
    "result_json = result_json_df.to_json(orient='index')"
   ]
  },
  {
   "cell_type": "code",
   "execution_count": 17,
   "metadata": {},
   "outputs": [],
   "source": [
    "with open('result.json', 'w') as output_file:\n",
    "    json.dump(result_json, output_file)"
   ]
  },
  {
   "cell_type": "code",
   "execution_count": 57,
   "metadata": {},
   "outputs": [],
   "source": [
    ""
   ]
  },
  {
   "cell_type": "code",
   "execution_count": 66,
   "metadata": {},
   "outputs": [],
   "source": [
    "result, result_details = find_matching_recipes(keywords_from_inventory)"
   ]
  },
  {
   "cell_type": "code",
   "execution_count": 68,
   "metadata": {},
   "outputs": [
    {
     "name": "stdout",
     "output_type": "stream",
     "text": [
      "<class 'dict'>\n{'0': {'calories': 426.0,\n       'categories': ['Sandwich',\n                      'Bean',\n                      'Fruit',\n                      'Tomato',\n                      'turkey',\n                      'Vegetable',\n                      'Kid-Friendly',\n                      'Apple',\n                      'Lentil',\n                      'Lettuce',\n                      'Cookie'],\n       'date': 1157083200000,\n       'desc': None,\n       'directions': ['1. Place the stock, lentils, celery, carrot, thyme, and '\n                      'salt in a medium saucepan and bring to a boil. Reduce '\n                      'heat to low and simmer until the lentils are tender, '\n                      'about 30 minutes, depending on the lentils. (If they '\n                      'begin to dry out, add water as needed.) Remove and '\n                      'discard the thyme. Drain and transfer the mixture to a '\n                      'bowl; let cool.',\n                      '2. Fold in the tomato, apple, lemon juice, and olive '\n                      'oil. Season with the pepper.',\n                      '3. To assemble a wrap, place 1 lavash sheet on a clean '\n                      'work surface. Spread some of the lentil mixture on the '\n                      'end nearest you, leaving a 1-inch border. Top with '\n                      'several slices of turkey, then some of the lettuce. '\n                      'Roll up the lavash, slice crosswise, and serve. If '\n                      'using tortillas, spread the lentils in the center, top '\n                      'with the turkey and lettuce, and fold up the bottom, '\n                      'left side, and right side before rolling away from '\n                      'you.'],\n       'fat': 7.0,\n       'ingredients': ['4 cups low-sodium vegetable or chicken stock',\n                       '1 cup dried brown lentils',\n                       '1/2 cup dried French green lentils',\n                       '2 stalks celery, chopped',\n                       '1 large carrot, peeled and chopped',\n                       '1 sprig fresh thyme',\n                       '1 teaspoon kosher salt',\n                       '1 medium tomato, cored, seeded, and diced',\n                       '1 small Fuji apple, cored and diced',\n                       '1 tablespoon freshly squeezed lemon juice',\n                       '2 teaspoons extra-virgin olive oil',\n                       'Freshly ground black pepper to taste',\n                       '3 sheets whole-wheat lavash, cut in half crosswise, or '\n                       '6 (12-inch) flour tortillas',\n                       '3/4 pound turkey breast, thinly sliced',\n                       '1/2 head Bibb lettuce'],\n       'protein': 30.0,\n       'rating': 2.5,\n       'sodium': 559.0,\n       'title': 'Lentil, Apple, and Turkey Wrap '},\n '1061': {'calories': 265.0,\n          'categories': ['Bread',\n                         'Cheese',\n                         'Onion',\n                         'Bake',\n                         'Quick & Easy',\n                         'Cheddar',\n                         'Fall',\n                         'Winter',\n                         'Poppy',\n                         'Gourmet'],\n          'date': 1093006128000,\n          'desc': None,\n          'directions': ['Preheat oven to 350°F. Grease and flour a 9- by 5- '\n                         'by 3-inch loaf pan, knocking out excess flour.',\n                         'Chop onions and in a large skillet cook in butter '\n                         'with 1/2 teaspoon salt over moderate heat, stirring '\n                         'occasionally, until softened and pale golden, about '\n                         '15 minutes. Cool onions.',\n                         'Into a bowl sift together flour, cornmeal, mustard, '\n                         'baking powder, and remaining teaspoon salt. Stir in '\n                         'poppy seeds and Cheddar. In a small bowl lightly '\n                         'beat eggs and stir in milk. Add milk mixture and '\n                         'onion mixture to flour mixture, stirring until just '\n                         'combined.',\n                         'Pour batter into loaf pan. Bake bread 1 1/4 hours, '\n                         'or until a tester inserted in center comes out '\n                         'clean. Cool bread in pan on a rack 10 minutes. Turn '\n                         'out bread onto rack and cool completely.'],\n          'fat': 14.0,\n          'ingredients': ['2 medium onions',\n                          '1/2 stick (1/4 cup) unsalted butter',\n                          '1 1/2 teaspoons salt',\n                          '2 cups all-purpose flour',\n                          '1 cup yellow cornmeal',\n                          '1 tablespoon dry mustard',\n                          '1 tablespoon baking powder',\n                          '3 tablespoons poppy seeds',\n                          '3 1/2 cups grated sharp Cheddar (about 14 ounces)',\n                          '3 large eggs',\n                          '1 1/2 cups milk'],\n          'protein': 11.0,\n          'rating': 4.375,\n          'sodium': 471.0,\n          'title': 'Poppy-Seed Onion Cheddar Bread '},\n '140': {'calories': 439.0,\n         'categories': ['Egg',\n                        'Side',\n                        'Low Cal',\n                        'Dinner',\n                        'Shrimp',\n                        'Hot Pepper',\n                        'Pan-Fry',\n                        'Soy Sauce',\n                        'Green Onion/Scallion',\n                        'Bon Appétit',\n                        'Sugar Conscious',\n                        'Pescatarian',\n                        'Dairy Free',\n                        'Peanut Free',\n                        'Tree Nut Free',\n                        'No Sugar Added'],\n         'date': 1244174400000,\n         'desc': 'Haemul pa jeon—savory pancakes that are crispy outside and '\n                 'soft and tender inside—are a popular side dish. They\\x92re '\n                 'best served warm, then dipped in a sauce of soy, lemon, and '\n                 'sesame.',\n         'directions': ['Whisk eggs in medium bowl to blend. Whisk in 1 1/2 '\n                        'cups cold water, 1/2 teaspoon salt, gochu garu, and '\n                        '1/4 teaspoon black pepper. Add flour; whisk until '\n                        'smooth. Mix in shrimp, all onions, and carrot. Let '\n                        'batter stand 1 hour at room temperature.',\n                        'Whisk soy sauce, 2 tablespoons water, lemon juice, '\n                        'sesame oil, and gochu garu in medium bowl; divide '\n                        'among 4 to 6 small dipping bowls.',\n                        'Heat 1 tablespoon oil in each of two 10-inch-diameter '\n                        'nonstick skillets over medium heat. Add 1 cup pancake '\n                        'batter to each, spreading to edges of skillet. Cook '\n                        'until edges are firm and bottom is golden brown, '\n                        'about 4 minutes. Using spatula, turn pancakes over. '\n                        'Cook until second side is golden brown and shrimp is '\n                        'cooked through, about 4 more minutes (center will be '\n                        'soft). Increase heat to high and cook until bottom is '\n                        'deep brown, about 1 minute longer per side. Slide '\n                        'pancakes out onto cutting board. Repeat with '\n                        'remaining oil and batter, forming 2 more pancakes. '\n                        'Cut pancakes into wedges. Serve warm or at room '\n                        'temperature with dipping sauce.'],\n         'fat': 20.0,\n         'ingredients': ['2 large eggs',\n                         '1 1/2 cups cold water',\n                         '1/2 teaspoon coarse kosher salt',\n                         '1/2 teaspoon gochu garu (Korean red pepper powder)* '\n                         'or 1/8 teaspoon cayenne pepper',\n                         '1/4 teaspoon freshly ground black pepper',\n                         '1 1/2 cups all purpose flour',\n                         '1/2 pound uncooked shrimp, peeled, deveined, cut '\n                         'into 1/3-inch pieces',\n                         '1 medium onion, halved, very thinly sliced',\n                         '8 green onions (white and pale green parts only), '\n                         'cut into 3- to 4-inch-long matchstick-size strips',\n                         '1 medium carrot, peeled, cut into 3-to 4-inch-long '\n                         'matchstick-size strips',\n                         '1/2 cup reduced-sodium soy sauce',\n                         '2 tablespoons water',\n                         '2 tablespoons fresh lemon juice',\n                         '2 teaspoons Asian sesame oil',\n                         '1 teaspoon gochu garu (Korean red pepper powder)* or '\n                         '1/4 teaspoon cayenne pepper',\n                         '4 tablespoons vegetable oil, divided'],\n         'protein': 20.0,\n         'rating': 3.75,\n         'sodium': 1763.0,\n         'title': 'Shrimp and Green Onion Pancakes '},\n '2030': {'calories': 222.0,\n          'categories': ['Soup/Stew',\n                         'Onion',\n                         'Tomato',\n                         'Sauté',\n                         'Celery',\n                         'Lentil',\n                         'Carrot',\n                         'Red Wine',\n                         'Winter',\n                         'Simmer',\n                         'Parade'],\n          'date': 1092974400000,\n          'desc': 'This dish uses three vegetable-bin staples: onions, celery, '\n                  \"and carrots. If you don't have any canned broth on hand, \"\n                  'dissolve a bouillon cube in water.',\n          'directions': ['1. Place the oil and butter in a heavy saucepan over '\n                         'low heat. Add the onion, celery, and carrot; cook, '\n                         'stirring, until the vegetables are wilted, about 15 '\n                         'minutes. Add the garlic and cloves during the last 3 '\n                         'minutes.',\n                         '2. Puree the tomatoes with their juices in a blender '\n                         'and add to the saucepan. Add the broth and lentils '\n                         'and bring to a boil. Reduce the heat to medium; '\n                         'simmer, uncovered, 20 minutes.',\n                         '3. Add the wine, season to taste with salt and '\n                         'pepper, then simmer gently for 20 minutes more. Stir '\n                         'in the parsley and serve immediately.'],\n          'fat': 11.0,\n          'ingredients': ['2 tablespoons olive oil',\n                          '1 tablespoon butter',\n                          '1 medium-sized onion, chopped',\n                          '2 ribs of celery, cut into 1/4-inch dice',\n                          '1 carrot, peeled and cut into 1/4-inch dice',\n                          '2 cloves of garlic, minced',\n                          '1/8 teaspoon ground cloves',\n                          '1 can (35 ounces) Italian plum tomatoes',\n                          '3 to 4 cups canned broth (chicken or vegetable)',\n                          '1/3 cup dried lentils, green or brown',\n                          '1/4 cup dry red wine',\n                          'Salt and freshly ground black pepper, to taste',\n                          '1/4 cup chopped flat-leaf parsley'],\n          'protein': 7.0,\n          'rating': 3.75,\n          'sodium': 657.0,\n          'title': 'Pot Luck Soup '},\n '2070': {'calories': 742.0,\n          'categories': ['Soup/Stew',\n                         'Ginger',\n                         'Vegetarian',\n                         'High Fiber',\n                         'Curry',\n                         'Corn',\n                         'Eggplant',\n                         'Green Bean',\n                         'Arugula',\n                         'Chickpea',\n                         'Squash',\n                         'Summer',\n                         'Healthy',\n                         'Low Cholesterol',\n                         'Bon Appétit'],\n          'date': 1281499200000,\n          'desc': 'This vegetarian entrée would also be delicious served with '\n                  'lamb or shrimp.',\n          'directions': ['Heat 1 tablespoon oil in large saucepan over medium '\n                         'heat. Add onion, carrot, lemongrass, and ginger; '\n                         'sauté until slightly softened but not brown, about 5 '\n                         'minutes. Add apple and curry powder; sauté until '\n                         'vegetables are tender, about 8 minutes. Add '\n                         'remaining 2 tablespoons oil, then flour and stir 1 '\n                         'to 2 minutes. Gradually pour in carrot juice; bring '\n                         'to boil, whisking constantly. Reduce heat to '\n                         'medium-low; simmer uncovered until sauce is slightly '\n                         'thickened and reduced to generous 2 1/2 cups, about '\n                         '20 minutes. Strain sauce through fine strainer set '\n                         'over bowl, pressing on solids to extract as much '\n                         'liquid as possible; discard solids in strainer. '\n                         'Season to taste with salt and freshly ground pepper. '\n                         'DO AHEAD: Curry sauce can be made 1 day ahead. Cool '\n                         'slightly. Cover; chill. Rewarm before using.',\n                         'Preheat oven to 400&def;F. Place eggplant cubes in '\n                         'large bowl. Add 3 tablespoons oil and toss to coat; '\n                         'sprinkle with salt. Spread eggplant cubes in even '\n                         'layer on large rimmed baking sheet. Toss squash and '\n                         'remaining 2 tablespoons oil in same bowl. Sprinkle '\n                         'with salt and pepper. Spread squash in even layer on '\n                         'another large rimmed baking sheet. Roast until '\n                         'squash and eggplant are light golden and tender, '\n                         'turning occasionally, about 25 minutes for squash '\n                         'and 40 minutes for eggplant. Remove baking sheets '\n                         'with vegetables from oven and set aside. Fill large '\n                         'bowl with water and ice. Cook beans in large pot of '\n                         'boiling salted water until just crisp-tender, 2 to 4 '\n                         'minutes, depending on size of beans. Using tongs, '\n                         'transfer beans to bowl of ice water to cool. Drain. '\n                         'Maintain boiling water in same pot; add corn. Cook '\n                         'until corn is just tender, about 5 minutes. Drain '\n                         'corn. Cool slightly. Cut kernels off corn cobs; '\n                         'discard cobs. DO AHEAD: Vegetables can be made 4 '\n                         'hours ahead. Combine all vegetables on large rimmed '\n                         'baking sheet. Let stand at room temperature.',\n                         'Preheat oven to 400°F. Mix garbanzo beans into '\n                         'vegetables; bake until heated through, about 15 '\n                         'minutes.',\n                         'Combine hot vegetables and hot curry sauce in large '\n                         'bowl. Season to taste with salt and pepper. Stir in '\n                         'arugula and basil.'],\n          'fat': 33.0,\n          'ingredients': ['3 tablespoons vegetable oil, divided',\n                          '1 small onion, chopped (about 1 cup)',\n                          '1 small carrot, peeled, chopped',\n                          '1 stalk lemongrass, coarsely chopped and pounded '\n                          'with meat mallet to flatten slightly',\n                          '1 1-inch piece unpeeled fresh ginger, thinly sliced',\n                          '1 small Granny Smith apple, peeled, finely chopped '\n                          '(about 1 cup)',\n                          '2 tablespoons curry powder (preferably Madras)',\n                          '2 1/2 tablespoons all purpose flour',\n                          '2 cups fresh carrot juice',\n                          '1 1/2 pounds eggplants (about 2 medium), peeled, '\n                          'cut into 1-inch cubes',\n                          '5 tablespoons vegetable oil, divided',\n                          '1 pound assorted summer squash (such as zucchini, '\n                          'yellow crookneck, and pattypan), cut into 1-inch '\n                          'pieces',\n                          '1 pound green beans, haricots verts, and/or yellow '\n                          'wax beans, trimmed, cut into 2-inch lengths',\n                          '4 ears of corn, husked',\n                          '1 15- to 16-ounce can garbanzo beans (chickpeas), '\n                          'drained',\n                          '2 cups (packed) arugula',\n                          '1/4 cup torn fresh basil',\n                          'Test-Kitchen Tip: To release the most flavor from '\n                          \"the lemongrass stalk, it's important to coarsely \"\n                          'chop and flatten it.'],\n          'protein': 20.0,\n          'rating': 3.75,\n          'sodium': 345.0,\n          'title': 'Summer Vegetable Ragout with Exotic Curry Sauce '},\n '2392': {'calories': 617.0,\n          'categories': ['Lamb',\n                         'Mushroom',\n                         'Olive',\n                         'Tomato',\n                         'Bake',\n                         'Winter',\n                         'Gourmet'],\n          'date': 1093006128000,\n          'desc': None,\n          'directions': ['Cover stack of phyllo with 2 overlapping sheets '\n                         'plastic wrap and then a damp kitchen towel.',\n                         'In a small bowl pour boiling water over tomatoes and '\n                         'soak 5 minutes. Thinly slice mushrooms. If using '\n                         'brine-cured olives, pit them. Thinly slice olives. '\n                         'Drain tomatoes well and thinly slice.',\n                         'In a large heavy skillet heat oil over moderately '\n                         'high heat until hot but not smoking and sauté '\n                         'mushrooms with salt and pepper to taste, stirring, '\n                         'until liquid they give off has evaporated. With a '\n                         'slotted spoon transfer mushrooms to a large bowl. '\n                         'Add lamb to skillet and cook, stirring and breaking '\n                         'up any lumps, until no longer pink. Transfer lamb '\n                         'with slotted spoon to bowl with mushrooms and '\n                         'discard fat. Stir tomatoes, olives, rosemary, basil, '\n                         'and red pepper flakes into lamb mixture and cool 10 '\n                         'minutes. Stir in feta, mozzarella, and salt and '\n                         'pepper to taste.',\n                         'Preheat oven to 425°F and lightly grease a large '\n                         'shallow baking pan.',\n                         'Stack phyllo between 2 sheets of wax paper and cover '\n                         'with a dry kitchen towel. On a work surface arrange '\n                         'two 20-inch-long sheets of wax paper with long sides '\n                         'overlapping slightly and facing you. Put 1 sheet of '\n                         'phyllo on wax paper and lightly brush with oil. On '\n                         'this, layer and brush 5 more sheets of phyllo in '\n                         'same manner. (Oiled phyllo stack should be 6 sheets '\n                         'thick.)',\n                         'Spread half of filling in a 3-inch-wide strip, '\n                         'mounding it, on phyllo 4 inches above the near long '\n                         'side, leaving a 2-inch border at each end. Using wax '\n                         'paper as a guide, lift bottom 4 inches of pastry '\n                         'over filling, folding in ends, and tightly roll up '\n                         'strudel. Carefully transfer strudel, seam side down, '\n                         'to baking pan and lightly brush with oil. Make '\n                         'another strudel with remaining ingredients in same '\n                         'manner.',\n                         'Bake strudels in middle of oven 25 minutes, or until '\n                         'golden. Cool strudels to warm in pan on a rack.',\n                         'Cut strudels into 1-inch slices with a serrated '\n                         'knife and serve slices warm.'],\n          'fat': 47.0,\n          'ingredients': ['Twelve 17- by 12-inch phyllo sheets',\n                          '1 1/2 cups boiling water',\n                          '1/2 cup dried tomatoes not packed in oil (about 2 '\n                          'ounces)',\n                          '1/2 pound mushrooms',\n                          '3/4 cup Kalamata or other brine-cured black olives '\n                          'or pitted ripe black olives',\n                          '1 tablespoon olive oil',\n                          '1 pound ground lamb',\n                          '1 teaspoon dried rosemary, crumbled',\n                          '1 teaspoon dried basil, crumbled',\n                          '1/2 teaspoon dried hot red pepper flakes',\n                          '1 1/2 cups crumbled feta (about 8 ounces)',\n                          '1/2 cup grated mozzarella (about 3 ounces)',\n                          'About 5 tablespoons olive oil'],\n          'protein': 25.0,\n          'rating': 4.375,\n          'sodium': 779.0,\n          'title': 'Lamb and Dried-Tomato Strudel '},\n '2655': {'calories': 1120.0,\n          'categories': ['Citrus',\n                         'Herb',\n                         'Lamb',\n                         'Sauté',\n                         'Lemon',\n                         'Mint',\n                         'Lamb Chop',\n                         'Spring',\n                         'Bon Appétit'],\n          'date': 1106947080000,\n          'desc': None,\n          'directions': ['Combine wine, sugar, and mint in heavy small '\n                         'saucepan. Bring to boil, stirring until sugar '\n                         'dissolves. Remove from heat; let stand 30 minutes. '\n                         'Strain syrup into medium saucepan; discard mint.',\n                         'Using vegetable peeler, remove peel from lemons in '\n                         'strips. Place strips in mini processor. Cut away all '\n                         'white pith from lemons and discard. Working on plate '\n                         'to catch juice, quarter lemons; remove seeds. Add '\n                         'lemons and juice to mini processor; using on/off '\n                         'turns, chop coarsely. Add lemon mixture to mint '\n                         'syrup. Boil until mixture is reduced to 2/3 cup, '\n                         'about 10 minutes. Stir in salt. Cool.',\n                         'Sprinkle lamb with salt and pepper. Heat 1 '\n                         'tablespoon oil in each of 2 large skillets over '\n                         'medium-high heat. Add lamb; cook to desired '\n                         'doneness, about 2 1/2 minutes per side for '\n                         'medium-rare. Serve lamb with compote.'],\n          'fat': 93.0,\n          'ingredients': ['3/4 cup dry white wine',\n                          '1/2 cup sugar',\n                          '1/4 cup (packed) fresh mint leaves',\n                          '2 Meyer lemons',\n                          '1/4 teaspoon coarse kosher salt',\n                          '8 3/4-inch-thick lamb rib or loin chops',\n                          '2 tablespoons vegetable oil'],\n          'protein': 37.0,\n          'rating': 3.75,\n          'sodium': 263.0,\n          'title': 'Lamb Chops with Minted Meyer Lemon Compote '},\n '2680': {'calories': 262.0,\n          'categories': ['Milk/Cream',\n                         'Alcoholic',\n                         'Brandy',\n                         'Winter',\n                         'Nutmeg',\n                         'Gourmet',\n                         'Drink'],\n          'date': 1093035492000,\n          'desc': None,\n          'directions': ['In a blender (heated with hot water if its container '\n                         'is glass) put the sugar, brandy, and milk. Blend the '\n                         'mixture, pour it into a large glass or mug, and '\n                         'sprinkle with nutmeg.',\n                         'Or stir the sugar and brandy in a warmed glass or '\n                         'mug and fill it with very hot milk. Add a few grains '\n                         'of nutmeg.',\n                         'Serve the drink at once.'],\n          'fat': 8.0,\n          'ingredients': ['1 teaspoon sugar',\n                          '1 jigger brandy',\n                          '1 cup very hot milk',\n                          'Nutmeg'],\n          'protein': 8.0,\n          'rating': 0.0,\n          'sodium': 105.0,\n          'title': 'Brandy Milk Punch '},\n '3140': {'calories': 6929.0,\n          'categories': ['Christmas',\n                         'Bake',\n                         'Cake',\n                         'Cranberry',\n                         'Spice',\n                         'Apple'],\n          'date': 1481148227838,\n          'desc': 'Covered Apple Cake (Gedeckter Apfelkuchen) is one of the '\n                  'cakes you’re sure to find in almost every single bakery '\n                  'across Germany. To make it, you line a springform pan with '\n                  'a sweet short pastry, fill the crust with a chunky cooked '\n                  'apple filling studded with raisins and flavored with '\n                  'cinnamon and lemon, and then use the same crust dough to '\n                  'make a lid for the cake. I sometimes wonder if it isn’t the '\n                  'precursor to America’s apple pie, though in this cake, even '\n                  'after baking, the pastry remains soft and cakey thanks to '\n                  'the moist, cooked apple filling and a lemon glaze that is '\n                  'brushed on the top crust after baking.',\n          'directions': ['Mix the flour, 3/4 cup granulated sugar, baking '\n                         'powder, and salt together in a large bowl. Cut the '\n                         'butter into cubes and add to the flour mixture. '\n                         'Using a pastry cutter or your hands, work the butter '\n                         'into the flour until it’s no longer visible. Add the '\n                         'egg and knead until the dough is smooth. Wrap '\n                         'tightly in plastic wrap and refrigerate for at least '\n                         '1 hour and up to 24 hours.',\n                         'Peel, core, and quarter the apples. Cut them into '\n                         'slices 1/8 to 1/4 inch/3 to 6mm thick and put the '\n                         'slices in a large pot. Add the juice of 1 lemon '\n                         'along with the Lebkuchen Spice and the 1/4 cup/60ml '\n                         'of water. Cover the pot and bring to a simmer over '\n                         'medium heat, stirring occasionally. Cook the apples '\n                         'for 15 to 20 minutes, or until silky and relatively '\n                         'broken down. The apples should not turn completely '\n                         'to mush but still retain some shape. Take the pot '\n                         'off the heat and stir in the cranberries and the '\n                         'remaining 1 Tbsp granulated sugar.',\n                         'Preheat the oven to 350°F/180°C. Line the bottom of '\n                         'a 9-inch/23cm springform pan with parchment paper. '\n                         'Take two-thirds of the dough and pat it evenly into '\n                         'the springform pan, forming a 1-inch-/2.5cm-high rim '\n                         'at the edges. Refrigerate the remaining dough. Prick '\n                         'the dough in the pan evenly all over with a fork. '\n                         'Line the dough with a sheet of aluminum foil and '\n                         'fill the pan with pie weights or dried beans. Bake '\n                         'for 20 to 30 minutes, or until the crust is starting '\n                         'to firm up but is not yet browning. Remove from the '\n                         'oven and carefully remove the aluminum foil and pie '\n                         'weights; maintain the oven temperature.',\n                         'Scrape the apple mixture evenly into the par-baked '\n                         'shell and smooth the top. The apple filling should '\n                         'precisely fill the crust. Roll out the remaining '\n                         'one-third of the dough between two pieces of plastic '\n                         'wrap until just slightly larger than the '\n                         'circumference of the pan. Trim the edges of the '\n                         'circle and then gently transfer the circle to the '\n                         'top of the cake, laying it over the apple filling. '\n                         'Tuck in the top crust and cut off any excess. Cut 3 '\n                         'small slits in the top of the dough. Put the pan '\n                         'back in the oven and bake for 35 to 45 minutes, or '\n                         'until the top is golden brown and slightly puffed.',\n                         'Remove the pan from the oven and let cool for 10 '\n                         'minutes while you prepare the glaze. Sieve the '\n                         'confectioners’ sugar into a small bowl and whisk in '\n                         'the 2 teaspoons of lemon juice and the 2 teaspoons '\n                         'of water until smooth. Brush the glaze over the '\n                         'still-hot cake and then let the cake cool completely '\n                         'before serving. The cake will keep at room '\n                         'temperature, covered lightly with plastic wrap, for '\n                         '2 to 3 days.'],\n          'fat': 140.0,\n          'ingredients': ['2 1/3 cups, scooped and leveled, plus 1 '\n                          'tablespoon/300g all-purpose flour',\n                          '3/4 cup/150g plus 1 tablespoon granulated sugar, '\n                          'divided',\n                          '1 teaspoon baking powder',\n                          'Pinch of salt',\n                          '10 1/2 tablespoons/150g unsalted high-fat, '\n                          'European-style butter, softened',\n                          '1 egg, at room temperature',\n                          '6 large apples (2 pounds 10 ounces/1.2kg)',\n                          'Juice of 1 lemon plus 2 teaspoons freshly squeezed '\n                          'lemon juice',\n                          '1 1/4 teaspoon Lebkuchen Spice Mix',\n                          '1 cup fresh cranberries',\n                          '1/4 cup/60ml plus 2 teaspoons water',\n                          '3/4 cup/75g confectioners’ sugar'],\n          'protein': 56.0,\n          'rating': 0.0,\n          'sodium': 837.0,\n          'title': 'Christmas Glazed Apple Cake (Weihnachten Gedeckter '\n                   'Apfelkuchen) '},\n '365': {'calories': 33.0,\n         'categories': ['Sauce', 'Soup/Stew', 'Herb', 'Vegetable', 'Gourmet'],\n         'date': 1092974400000,\n         'desc': None,\n         'directions': ['Cut up leek, carrot, and celery and in a large '\n                        'saucepan bring to a boil with remaining ingredients. '\n                        'Boil mixture 10 minutes and pour through a fine sieve '\n                        'into a bowl. Court bouillon keeps, covered and '\n                        'chilled, 3 days or, frozen, 2 months.'],\n         'fat': 0.0,\n         'ingredients': ['1/2 small leek (white and pale green parts only)',\n                         'a 3-inch piece carrot',\n                         'a 3-inch piece celery rib',\n                         '3 medium garlic cloves',\n                         '7 cups cold water',\n                         '1 cup plus 2 tablespoons red-wine vinegar',\n                         '1 fresh thyme sprig',\n                         '2 bay leaves (not the stronger California variety)',\n                         '1 1/2 teaspoons white peppercorns',\n                         '1 teaspoon fine sea salt'],\n         'protein': 1.0,\n         'rating': 4.375,\n         'sodium': 624.0,\n         'title': 'Court Bouillon '},\n '3920': {'calories': 474.0,\n          'categories': ['Beef',\n                         'Olive',\n                         'Quick & Easy',\n                         'Summer',\n                         'Grill/Barbecue',\n                         'Oregano',\n                         'Gourmet'],\n          'date': 1092974400000,\n          'desc': 'This recipe can be prepared in 45 minutes or less.',\n          'directions': ['Prepare grill.',\n                         'Pit olives and coarsely chop. In a bowl stir '\n                         'together olives, onion, oregano, oil, pepper, and '\n                         'salt to taste. Pat steaks dry and season with salt '\n                         'and pepper. Grill steaks on an oiled rack set 5 to 6 '\n                         'inches over glowing coals about 4 minutes on each '\n                         'side for medium-rare. (Alternatively, grill steaks '\n                         'in a hot oiled well-seasoned ridged grill pan over '\n                         'moderately high heat.) Serve steaks topped with '\n                         'relish.'],\n          'fat': 22.0,\n          'ingredients': ['1/3 cup drained Kalamata or other brine-cured black '\n                          'olives',\n                          '2 tablespoons finely chopped red onion',\n                          '2 teaspoons minced fresh oregano leaves',\n                          '2 teaspoons extra-virgin olive oil',\n                          'freshly ground black pepper to taste',\n                          'two 3/4-inch-thick boneless beef loin (strip) or '\n                          'rib-eye steaks (each about 1/2 pound)'],\n          'protein': 68.0,\n          'rating': 4.375,\n          'sodium': 394.0,\n          'title': 'Grilled Strip Steaks with Olive-Oregano Relish '},\n '3943': {'calories': 538.0,\n          'categories': ['Milk/Cream',\n                         'Egg',\n                         'Tomato',\n                         'Appetizer',\n                         'Brunch',\n                         'Bake',\n                         'Vegetarian',\n                         'Mozzarella',\n                         'Parmesan',\n                         'Basil',\n                         'Zucchini',\n                         'Phyllo/Puff Pastry Dough',\n                         'Bon Appétit',\n                         'Sugar Conscious',\n                         'Pescatarian',\n                         'Peanut Free',\n                         'Tree Nut Free',\n                         'Soy Free',\n                         'Kosher'],\n          'date': 1092974400000,\n          'desc': 'Using frozen puff pastry for the crust makes this '\n                  'quiche-like tart super-easy.',\n          'directions': ['Roll out pastry on floured surface to 1/8-inch-thick '\n                         'square. Trim pastry edges to form 13-inch round. '\n                         'Transfer to 11-inch tart pan with removable bottom. '\n                         'Fold in overhang to form double-thick sides. Pierce '\n                         'with fork. Cover; chill 1 hour.',\n                         'Preheat oven to 425°F. Line pastry with foil; fill '\n                         'with beans or pie weights. Bake pastry until sides '\n                         'are set, about 20 minutes. Remove foil and beans. '\n                         'Bake crust until bottom is golden brown, pressing '\n                         'with back of fork if bubbles form, about 8 minutes. '\n                         'Cool 5 minutes.',\n                         'Reduce oven temperature to 400°F. Sprinkle '\n                         'mozzarella over bottom of crust. Top with 6 '\n                         'tablespoons Parmesan, tomatoes, basil, green onions, '\n                         'and oregano. Arrange zucchini rounds in concentric '\n                         'circles to cover top of tart. Whisk eggs, half and '\n                         'half, salt, and pepper in medium bowl. Pour mixture '\n                         'into tart. Sprinkle with remaining 1/4 cup Parmesan.',\n                         'Bake tart until custard is set and crust is golden '\n                         'brown, about 35 minutes. Serve warm or at room '\n                         'temperature.'],\n          'fat': 38.0,\n          'ingredients': ['1 sheet frozen puff pastry (half of 17.3-ounce '\n                          'package), thawed',\n                          '1 1/2 cups shredded mozzarella cheese',\n                          '6 tablespoons plus 1/4 cup freshly grated Parmesan '\n                          'cheese',\n                          '1/2 cup drained oil-packed sun-dried tomatoes, '\n                          'thinly sliced',\n                          '1/2 cup thinly sliced fresh basil',\n                          '1/4 cup chopped green onions',\n                          '1 tablespoon chopped fresh oregano',\n                          '1 small zucchini, cut into thin rounds',\n                          '2 large eggs',\n                          '1 cup half and half',\n                          '1/4 teaspoon salt',\n                          '1/4 teaspoon ground black pepper'],\n          'protein': 17.0,\n          'rating': 4.375,\n          'sodium': 620.0,\n          'title': 'Zucchini, Sun-Dried Tomato, and Mozarella Tart '},\n '4743': {'calories': 261.0,\n          'categories': ['Pork',\n                         'Bake',\n                         'Christmas',\n                         \"New Year's Eve\",\n                         'Phyllo/Puff Pastry Dough',\n                         'Caraway',\n                         'Pastry',\n                         'Bon Appétit'],\n          'date': 1352865600000,\n          'desc': 'A handmade sausage mix takes the place of cocktail franks '\n                  'in this new party classic. A couple of these will keep '\n                  \"those Manhattans you're swilling in check.\",\n          'directions': ['Melt butter in a small skillet over medium heat. Add '\n                         'shallot and cook, stirring occasionally and reducing '\n                         'heat if needed to prevent burning, until soft, 4-5 '\n                         'minutes. Add garlic and cook, stirring occasionally, '\n                         'until aromatic, about 1 minute. Transfer shallot '\n                         'mixture to a large bowl and let cool.',\n                         'Combine panko and milk in a small bowl; let stand '\n                         'until milk is absorbed, 2-3 minutes. Add to bowl '\n                         'with shallot mixture. Squeeze any excess liquid from '\n                         'sauerkraut; coarsely chop and add to bowl. Stir in 1 '\n                         'tablespoon Dijon mustard and caraway seeds; season '\n                         'with salt and pepper. Mix well. Add pork; using a '\n                         'fork or your hands, gently mix until just combined '\n                         '(do not overmix).',\n                         'Line a baking sheet with parchment paper. Roll out '\n                         'pastry on a lightly floured surface to a 14x10\" '\n                         'rectangle. Cut lengthwise into three 14x3 1/3\" '\n                         'strips. Transfer strips to prepared baking sheet. '\n                         'Using one-third of sausage filling and leaving a 1\" '\n                         'border at each end, pat sausage to form a thin log '\n                         'of filling down the center of 1 pastry strip. Fold '\n                         'pastry over sausage mixture to enclose, then press '\n                         'pastry together to seal. Fold seam under to ensure '\n                         'that sausage is tightly wrapped. Repeat with '\n                         'remaining pastry and sausage mixture.',\n                         'Cut small diagonal slits at 1\" intervals along top '\n                         'of pastries (to help release steam). Brush top and '\n                         'sides of pastry with beaten egg; chill in freezer '\n                         'for about 30 minutes. DO AHEAD: Pastries can be made '\n                         '2 weeks ahead. Cover tightly with plastic wrap, then '\n                         'foil, and keep frozen.',\n                         'Preheat oven to 425°F. Bake pastries (if frozen, no '\n                         'need to thaw) until puffed and light brown, about 15 '\n                         'minutes. Reduce heat to 350°F; continue baking until '\n                         'sausage is cooked through and pastry is golden and '\n                         'completely puffed, about 25 minutes. Let cool '\n                         'slightly. Cut sausage rolls crosswise into 1\" '\n                         'pieces. Serve with a bowl of Dijon mustard for '\n                         'dipping.'],\n          'fat': 18.0,\n          'ingredients': ['1 tablespoon unsalted butter',\n                          '1/4 cup minced shallot',\n                          '2 large garlic cloves, minced',\n                          '3 tablespoons panko (Japanese breadcrumbs)',\n                          '3 tablespoons whole milk',\n                          '3/4 cup drained sauerkraut',\n                          '1 tablespoon Dijon mustard plus more for serving',\n                          '3/4 teaspoon caraway seeds, toasted, lightly '\n                          'crushed',\n                          'Kosher salt and freshly ground black pepper',\n                          '8 ounces ground pork',\n                          '1 14-ounce package Dufour Pastry Kitchens frozen '\n                          'puff pastry, thawed',\n                          'All-purpose flour (for dusting)',\n                          '1 large egg, beaten to blend'],\n          'protein': 7.0,\n          'rating': 3.75,\n          'sodium': 175.0,\n          'title': 'Pigs in Sleeping Bags '},\n '694': {'calories': 437.0,\n         'categories': ['Fruit',\n                        'Breakfast',\n                        'Brunch',\n                        'Raspberry',\n                        'Apple',\n                        'Kirsch',\n                        'Pan-Fry',\n                        'Simmer',\n                        'Bon Appétit'],\n         'date': 1092974400000,\n         'desc': 'This hearty breakfast dish is served at The Ahwahnee Hotel.',\n         'directions': ['Stir berries, 2/3 cup sugar and 1/4 cup water in '\n                        'heavy medium saucepan over medium heat until mixture '\n                        'comes to boil, stirring occasionally. Puree mixture '\n                        'in processor. Strain into bowl, pressing on solids. '\n                        'Mix in kirsch. (Sauce can be made 1 day ahead. Cover; '\n                        'chill.)',\n                        'Blend flour, 3 tablespoons sugar, baking powder, '\n                        'baking soda and salt in large bowl. Whisk buttermilk, '\n                        'eggs and 2 tablespoons melted butter in medium bowl; '\n                        'whisk mixture into dry ingredients. Set batter aside.',\n                        'Preheat oven to 250°F. Heat 4 tablespoons butter in '\n                        'large skillet over medium heat. Add apples, cinnamon '\n                        'and 1/3 cup sugar; sauté until apples are golden, '\n                        'about 10 minutes.',\n                        'Heat 10-inch-diameter nonstick skillet over medium '\n                        'heat. Brush with 1 tablespoon melted butter. Pour '\n                        'scant 1/2 cup batter into skillet, tilting to form 7- '\n                        'to 8-inch-diameter pancake. Cook until golden brown '\n                        'on bottom, about 3 minutes. Turn and cook until '\n                        'second side browns, about 2 minutes. Place 1/8 of '\n                        'apple mixture on half of pancake; fold pancake in '\n                        'half. Slide out onto baking sheet; keep warm in oven. '\n                        'Repeat to form 5 more pancakes, brushing skillet with '\n                        'more butter as needed. Serve pancakes with sauce.'],\n         'fat': 4.0,\n         'ingredients': ['2 12-ounce packages frozen unsweetened raspberries, '\n                         'thawed',\n                         '2/3 cup sugar',\n                         '1/4 cup water',\n                         '1 tablespoon kirsch (clear cherry brandy) or water',\n                         '2 cups all purpose flour',\n                         '3 tablespoons plus 1/3 cup sugar',\n                         '1 1/2 teaspoons baking powder',\n                         '3/4 teaspoon baking soda',\n                         '1/2 teaspoon salt',\n                         '2 cups buttermilk',\n                         '2 large eggs',\n                         '7 tablespoons (or more) unsalted butter, melted',\n                         '5 Granny Smith apples, peeled, halved, cored, cut '\n                         'into 1/3-inch-thick slices 1/2 teaspoon ground '\n                         'cinnamon'],\n         'protein': 11.0,\n         'rating': 4.375,\n         'sodium': 643.0,\n         'title': 'Thick Apple Pancakes with Raspberry Sauce '},\n '859': {'calories': None,\n         'categories': ['Cake',\n                        'Berry',\n                        'Chocolate',\n                        'Dessert',\n                        'Bake',\n                        'Passover',\n                        'Raspberry',\n                        'Spring',\n                        'Kosher',\n                        'Bon Appétit'],\n         'date': 1092974400000,\n         'desc': 'Perfect for the Jewish holiday, this flourless torte has an '\n                 'airy soufflé-like texture. The sauce adds a special-occasion '\n                 'touch.',\n         'directions': ['Preheat oven to 350°F. Line bottom of 9-inch-diameter '\n                        'springform pan with 2 3/4-inch-high sides with '\n                        'parchment paper. Stir chocolate and margarine in '\n                        'heavy medium saucepan over low heat until melted and '\n                        'smooth. Remove from heat. Cool until lukewarm.',\n                        'Using electric mixer, beat yolks and 3/4 cup sugar in '\n                        'large bowl until pale and very thick, about 4 '\n                        'minutes. Add chocolate mixture in 2 additions and '\n                        'beat until well blended. Using clean dry beaters, '\n                        'beat egg whites in another large bowl until foamy. '\n                        'Gradually add 1/4 cup sugar and beat until whites are '\n                        'stiff but not dry. Fold 1/3 of whites into chocolate '\n                        'mixture. Fold in remaining whites in 2 additions. '\n                        'Transfer batter to prepared pan.',\n                        'Bake torte until crust forms on top and tester '\n                        'inserted into center comes out with some moist batter '\n                        'and some moist crumbs still attached, about 55 '\n                        'minutes (top may crack). Run small sharp knife around '\n                        'torte to loosen. Cool in pan on rack (torte will fall '\n                        'and crack). Remove pan sides. Invert torte onto '\n                        'platter. (Can be prepared 1 day ahead. Cover with '\n                        'cake dome and store at room temperature.)',\n                        'Grind 1/3 cup sugar in blender until fine powder '\n                        'forms. Place doily atop torte. Sift ground sugar over '\n                        'doily; gently remove doily. Garnish torte with '\n                        'raspberries, if desired. Serve with Raspberry Sauce.'],\n         'fat': None,\n         'ingredients': ['8 ounces bittersweet (not unsweetened) or semisweet '\n                         'chocolate, chopped',\n                         '1 cup (2 sticks) unsalted kosher-for-Passover pareve '\n                         '(non-dairy) margarine',\n                         '8 large egg yolks',\n                         '1 cup plus 1/3 cup sugar',\n                         '5 large egg whites',\n                         'Paper doily',\n                         'Fresh raspberries (optional)',\n                         'Raspberry Sauce'],\n         'protein': None,\n         'rating': 4.375,\n         'sodium': None,\n         'title': 'Passover Chocolate Torte with Raspberry Sauce '}}\n"
     ]
    }
   ],
   "source": [
    "print(type(result))\n",
    "pprint(result)"
   ]
  },
  {
   "cell_type": "code",
   "execution_count": 72,
   "metadata": {},
   "outputs": [
    {
     "name": "stdout",
     "output_type": "stream",
     "text": [
      "Result details: <class 'pandas.core.frame.DataFrame'>\n                                                  Title  Match Found  \\\n0                       Lentil, Apple, and Turkey Wrap             5   \n1061              N'awlins Butter Beans with Andouille             4   \n140                       New Millennium Waldorf Salad             3   \n2680             Turkey Soup with Orzo and White Beans             3   \n2392                        Chickpea Soup with Arugula             3   \n694                              Two-Bean Turkey Chili             3   \n365   Grilled Pork, Tomato, Frisée, and Black Bean S...            3   \n859                                Layered Nacho Salad             3   \n4743       Baked Chicken with White Beans and Tomatoes             3   \n3943                               Fried Chicken Salad             3   \n2070  Spicy Chicken Salad with Bell Pepper and Cilan...            3   \n3920  Summer Chef's Salad with Grilled Pork, Chicken...            3   \n2030  Braised Provencal Chicken with Butternut Squas...            3   \n3140             Italian Turkey, Bean, and Tomato Soup             3   \n2655                      Grilled Chicken Summer Salad             3   \n\n      Match Percentage                             Match Items  \n0            45.454545  [lettuce, apple, tomato, turkey, bean]  \n1061         50.000000         [chicken, tomato, turkey, bean]  \n140          23.076923               [lettuce, chicken, apple]  \n2680         25.000000                  [tomato, turkey, bean]  \n2392         13.636364                 [chicken, tomato, bean]  \n694          12.000000                  [tomato, turkey, bean]  \n365          37.500000                 [lettuce, tomato, bean]  \n859          23.076923                 [chicken, turkey, bean]  \n4743         30.000000                 [chicken, tomato, bean]  \n3943         21.428571              [lettuce, chicken, tomato]  \n2070         23.076923              [lettuce, chicken, tomato]  \n3920         23.076923              [lettuce, chicken, tomato]  \n2030         27.272727                 [chicken, tomato, bean]  \n3140         18.750000                  [tomato, turkey, bean]  \n2655         13.636364              [lettuce, chicken, tomato]  \n"
     ]
    }
   ],
   "source": [
    "print(\"Result details: \" + str(type(result_details)))\n",
    "print(result_details)"
   ]
  },
  {
   "cell_type": "code",
   "execution_count": 12,
   "metadata": {},
   "outputs": [
    {
     "name": "stdout",
     "output_type": "stream",
     "text": [
      "hello\n"
     ]
    },
    {
     "name": "stdout",
     "output_type": "stream",
     "text": [
      "5.00225830078125 s\n"
     ]
    }
   ],
   "source": [
    "import time\n",
    "tic = time.time()\n",
    "###\n",
    "toc = time.time()\n",
    "duration = toc - tic\n",
    "print(str(duration) + \" s\")"
   ]
  },
  {
   "cell_type": "code",
   "execution_count": null,
   "metadata": {},
   "outputs": [],
   "source": []
  }
 ],
 "metadata": {
  "kernelspec": {
   "display_name": "Python 2",
   "language": "python",
   "name": "python2"
  },
  "language_info": {
   "codemirror_mode": {
    "name": "ipython",
    "version": 2
   },
   "file_extension": ".py",
   "mimetype": "text/x-python",
   "name": "python",
   "nbconvert_exporter": "python",
   "pygments_lexer": "ipython2",
   "version": "2.7.6"
  }
 },
 "nbformat": 4,
 "nbformat_minor": 0
}
