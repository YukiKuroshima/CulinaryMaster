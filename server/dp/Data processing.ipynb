{
 "cells": [
  {
   "cell_type": "code",
   "execution_count": 1,
   "metadata": {},
   "outputs": [],
   "source": [
    "import pandas as pd\n",
    "import numpy as np\n",
    "import json\n",
    "\n",
    "recipe_file_path = './server/dp/datasets/epi_r.csv'\n",
    "recipe_json_file_path = \"./server/dp/datasets/full_format_recipes.json\""
   ]
  },
  {
   "cell_type": "code",
   "execution_count": 2,
   "metadata": {},
   "outputs": [],
   "source": [
    "def find_matching_recipes(keywords, result_count=15):\n",
    "    \"\"\"\n",
    "    Given a list of keywords find recipes that match the keywords and return all the matched recipes\n",
    "    and their matching percentage.\n",
    "    Args:\n",
    "        keywords: A 'list' containing all the ingredients and other keywords in user's inventory and\n",
    "         other keywords such as allergy info.\n",
    "    Returns:\n",
    "        result_df: A Pandas DataFrame containing:\n",
    "            Title: The name of the recipe with at least one keyword found in it.\n",
    "            Match Found: The number of keywords found in the recipe given a querying list of keywords.\n",
    "            Match Percentage: The percentage of matching, defined as match found divided by item count in each recipe.\n",
    "            Match Items: A list of matched keywords found in each recipe.\n",
    "    \"\"\"\n",
    "    # Read recipes information from epi.csv\n",
    "    recipes_df = pd.read_csv(recipe_file_path)\n",
    "\n",
    "    result_list = []\n",
    "    for index, recipe in recipes_df.iterrows():\n",
    "        # The recipe title to be used as a key in found_count for storing recipe result name.\n",
    "        recipe_name = recipe[\"title\"]\n",
    "\n",
    "        is_one_hot_true = map(lambda x: x == np.float(1), recipe)\n",
    "\n",
    "        # Recipe with only one-hot encoding column.\n",
    "        one_hot_recipe = recipe[is_one_hot_true]\n",
    "\n",
    "        found = 0\n",
    "        found_keywords = []\n",
    "        # Loop and count matching keywords in a recipe.\n",
    "        for keyword in keywords:\n",
    "            if keyword in one_hot_recipe:\n",
    "                found += 1\n",
    "                found_keywords.append(keyword)\n",
    "        if found != 0:\n",
    "            # matching_percentage = found_count[recipe_name] / one_hot_recipe.count() * 100\n",
    "            matching_percentage = found / one_hot_recipe.count() * 100.00\n",
    "\n",
    "            # Add results to DataFrame.\n",
    "            result_list.append({'Title': recipe_name,\n",
    "                                'Match Found': found,\n",
    "                                'Match Percentage': matching_percentage,\n",
    "                                'Match Items': found_keywords})\n",
    "\n",
    "    # Convert list of dicts to DataFrame.\n",
    "    result_df = pd.DataFrame(result_list)\n",
    "\n",
    "    # Specify DataFrame desired column order.\n",
    "    desired_order = ['Title', 'Match Found', 'Match Percentage', 'Match Items']\n",
    "    result_df = result_df[desired_order]\n",
    "\n",
    "    # Sort the result DataFrame based on the number of item found in descending order.\n",
    "    result_df = result_df.sort_values('Match Found', ascending=False)\n",
    "\n",
    "    return result_df[0:result_count]"
   ]
  },
  {
   "cell_type": "code",
   "execution_count": 3,
   "metadata": {},
   "outputs": [],
   "source": [
    "keywords_from_inventory = [\"lettuce\", \"chicken\", \"apple\", \"tomato\", \"turkey\", \"bean\"]"
   ]
  },
  {
   "cell_type": "code",
   "execution_count": 4,
   "metadata": {},
   "outputs": [],
   "source": [
    "result = find_matching_recipes(keywords_from_inventory)"
   ]
  },
  {
   "cell_type": "code",
   "execution_count": 5,
   "metadata": {},
   "outputs": [
    {
     "name": "stdout",
     "output_type": "stream",
     "text": [
      "['calories', 'categories', 'date', 'desc', 'directions', 'fat', 'ingredients', 'protein', 'rating', 'sodium', 'title']\n"
     ]
    }
   ],
   "source": [
    "# Test for find_matching_recipes\n",
    "recipes_df_json_m = pd.read_json(recipe_json_file_path)\n",
    "print(list(recipes_df_json_m))"
   ]
  },
  {
   "cell_type": "code",
   "execution_count": 6,
   "metadata": {},
   "outputs": [
    {
     "name": "stdout",
     "output_type": "stream",
     "text": [
      "[0, 1061, 140, 2680, 2392, 694, 365, 859, 4743, 3943, 2070, 3920, 2030, 3140, 2655]\n"
     ]
    }
   ],
   "source": [
    "result_indexes = result.index.values.tolist()\n",
    "print(result_indexes)"
   ]
  },
  {
   "cell_type": "code",
   "execution_count": 7,
   "metadata": {},
   "outputs": [
    {
     "name": "stdout",
     "output_type": "stream",
     "text": [
      "      calories                                         categories  \\\n0        426.0  [Sandwich, Bean, Fruit, Tomato, turkey, Vegeta...   \n1061     265.0  [Bread, Cheese, Onion, Bake, Quick & Easy, Che...   \n140      439.0  [Egg, Side, Low Cal, Dinner, Shrimp, Hot Peppe...   \n2680     262.0  [Milk/Cream, Alcoholic, Brandy, Winter, Nutmeg...   \n2392     617.0  [Lamb, Mushroom, Olive, Tomato, Bake, Winter, ...   \n694      437.0  [Fruit, Breakfast, Brunch, Raspberry, Apple, K...   \n365       33.0       [Sauce, Soup/Stew, Herb, Vegetable, Gourmet]   \n859        NaN  [Cake, Berry, Chocolate, Dessert, Bake, Passov...   \n4743     261.0  [Pork, Bake, Christmas, New Year's Eve, Phyllo...   \n3943     538.0  [Milk/Cream, Egg, Tomato, Appetizer, Brunch, B...   \n2070     742.0  [Soup/Stew, Ginger, Vegetarian, High Fiber, Cu...   \n3920     474.0  [Beef, Olive, Quick & Easy, Summer, Grill/Barb...   \n2030     222.0  [Soup/Stew, Onion, Tomato, Sauté, Celery, Lent...   \n3140    6929.0   [Christmas, Bake, Cake, Cranberry, Spice, Apple]   \n2655    1120.0  [Citrus, Herb, Lamb, Sauté, Lemon, Mint, Lamb ...   \n\n                        date  \\\n0    2006-09-01 04:00:00.000   \n1061 2004-08-20 12:48:48.000   \n140  2009-06-05 04:00:00.000   \n2680 2004-08-20 20:58:12.000   \n2392 2004-08-20 12:48:48.000   \n694  2004-08-20 04:00:00.000   \n365  2004-08-20 04:00:00.000   \n859  2004-08-20 04:00:00.000   \n4743 2012-11-14 04:00:00.000   \n3943 2004-08-20 04:00:00.000   \n2070 2010-08-11 04:00:00.000   \n3920 2004-08-20 04:00:00.000   \n2030 2004-08-20 04:00:00.000   \n3140 2016-12-07 22:03:47.838   \n2655 2005-01-28 21:18:00.000   \n\n                                                   desc  \\\n0                                                  None   \n1061                                               None   \n140   Haemul pa jeon—savory pancakes that are crispy...   \n2680                                               None   \n2392                                               None   \n694   This hearty breakfast dish is served at The Ah...   \n365                                                None   \n859   Perfect for the Jewish holiday, this flourless...   \n4743  A handmade sausage mix takes the place of cock...   \n3943  Using frozen puff pastry for the crust makes t...   \n2070  This vegetarian entrée would also be delicious...   \n3920  This recipe can be prepared in 45 minutes or l...   \n2030  This dish uses three vegetable-bin staples: on...   \n3140  Covered Apple Cake (Gedeckter Apfelkuchen) is ...   \n2655                                               None   \n\n                                             directions    fat  \\\n0     [1. Place the stock, lentils, celery, carrot, ...    7.0   \n1061  [Preheat oven to 350°F. Grease and flour a 9- ...   14.0   \n140   [Whisk eggs in medium bowl to blend. Whisk in ...   20.0   \n2680  [In a blender (heated with hot water if its co...    8.0   \n2392  [Cover stack of phyllo with 2 overlapping shee...   47.0   \n694   [Stir berries, 2/3 cup sugar and 1/4 cup water...    4.0   \n365   [Cut up leek, carrot, and celery and in a larg...    0.0   \n859   [Preheat oven to 350°F. Line bottom of 9-inch-...    NaN   \n4743  [Melt butter in a small skillet over medium he...   18.0   \n3943  [Roll out pastry on floured surface to 1/8-inc...   38.0   \n2070  [Heat 1 tablespoon oil in large saucepan over ...   33.0   \n3920  [Prepare grill., Pit olives and coarsely chop....   22.0   \n2030  [1. Place the oil and butter in a heavy saucep...   11.0   \n3140  [Mix the flour, 3/4 cup granulated sugar, baki...  140.0   \n2655  [Combine wine, sugar, and mint in heavy small ...   93.0   \n\n                                            ingredients  protein  rating  \\\n0     [4 cups low-sodium vegetable or chicken stock,...     30.0   2.500   \n1061  [2 medium onions, 1/2 stick (1/4 cup) unsalted...     11.0   4.375   \n140   [2 large eggs, 1 1/2 cups cold water, 1/2 teas...     20.0   3.750   \n2680  [1 teaspoon sugar, 1 jigger brandy, 1 cup very...      8.0   0.000   \n2392  [Twelve 17- by 12-inch phyllo sheets, 1 1/2 cu...     25.0   4.375   \n694   [2 12-ounce packages frozen unsweetened raspbe...     11.0   4.375   \n365   [1/2 small leek (white and pale green parts on...      1.0   4.375   \n859   [8 ounces bittersweet (not unsweetened) or sem...      NaN   4.375   \n4743  [1 tablespoon unsalted butter, 1/4 cup minced ...      7.0   3.750   \n3943  [1 sheet frozen puff pastry (half of 17.3-ounc...     17.0   4.375   \n2070  [3 tablespoons vegetable oil, divided, 1 small...     20.0   3.750   \n3920  [1/3 cup drained Kalamata or other brine-cured...     68.0   4.375   \n2030  [2 tablespoons olive oil, 1 tablespoon butter,...      7.0   3.750   \n3140  [2 1/3 cups, scooped and leveled, plus 1 table...     56.0   0.000   \n2655  [3/4 cup dry white wine, 1/2 cup sugar, 1/4 cu...     37.0   3.750   \n\n      sodium                                              title  \n0      559.0                    Lentil, Apple, and Turkey Wrap   \n1061   471.0                    Poppy-Seed Onion Cheddar Bread   \n140   1763.0                   Shrimp and Green Onion Pancakes   \n2680   105.0                                 Brandy Milk Punch   \n2392   779.0                     Lamb and Dried-Tomato Strudel   \n694    643.0         Thick Apple Pancakes with Raspberry Sauce   \n365    624.0                                    Court Bouillon   \n859      NaN     Passover Chocolate Torte with Raspberry Sauce   \n4743   175.0                             Pigs in Sleeping Bags   \n3943   620.0    Zucchini, Sun-Dried Tomato, and Mozarella Tart   \n2070   345.0   Summer Vegetable Ragout with Exotic Curry Sauce   \n3920   394.0    Grilled Strip Steaks with Olive-Oregano Relish   \n2030   657.0                                     Pot Luck Soup   \n3140   837.0  Christmas Glazed Apple Cake (Weihnachten Gedec...  \n2655   263.0        Lamb Chops with Minted Meyer Lemon Compote   \n"
     ]
    }
   ],
   "source": [
    "result_json_df = recipes_df_json_m.iloc[result_indexes, :]\n",
    "print(result_json_df)"
   ]
  },
  {
   "cell_type": "code",
   "execution_count": 32,
   "metadata": {},
   "outputs": [],
   "source": [
    "from pprint import pprint\n",
    "\n",
    "result_json = result_json_df.to_json(orient='index')"
   ]
  },
  {
   "cell_type": "code",
   "execution_count": 17,
   "metadata": {},
   "outputs": [],
   "source": [
    "with open('result.json', 'w') as output_file:\n",
    "    json.dump(result_json, output_file)"
   ]
  },
  {
   "cell_type": "code",
   "execution_count": 12,
   "metadata": {},
   "outputs": [],
   "source": []
  },
  {
   "cell_type": "code",
   "execution_count": null,
   "metadata": {},
   "outputs": [],
   "source": []
  }
 ],
 "metadata": {
  "kernelspec": {
   "display_name": "Python 2",
   "language": "python",
   "name": "python2"
  },
  "language_info": {
   "codemirror_mode": {
    "name": "ipython",
    "version": 2
   },
   "file_extension": ".py",
   "mimetype": "text/x-python",
   "name": "python",
   "nbconvert_exporter": "python",
   "pygments_lexer": "ipython2",
   "version": "2.7.6"
  }
 },
 "nbformat": 4,
 "nbformat_minor": 0
}
